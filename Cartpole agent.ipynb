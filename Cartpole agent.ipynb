{
 "cells": [
  {
   "cell_type": "code",
   "execution_count": 2,
   "metadata": {
    "collapsed": false
   },
   "outputs": [
    {
     "name": "stderr",
     "output_type": "stream",
     "text": [
      "Using TensorFlow backend.\n"
     ]
    }
   ],
   "source": [
    "import gym\n",
    "import tensorflow as tf\n",
    "from keras import backend as kb"
   ]
  },
  {
   "cell_type": "markdown",
   "metadata": {},
   "source": [
    "## Huber loss function\n",
    "We start of by defining our loss function. In this case, we will use a huber loss function. We use huber loss because it is less sensitive to outliers in the data than squared error loss. \n",
    "\n",
    "For more information on huber loss, check out: https://en.wikipedia.org/wiki/Huber_loss"
   ]
  },
  {
   "cell_type": "code",
   "execution_count": 3,
   "metadata": {
    "collapsed": true
   },
   "outputs": [],
   "source": [
    "def huber_loss(y_true, y_pred):\n",
    "    \n",
    "    HUBER_LOSS_DELTA = 1.0\n",
    "    \n",
    "    error = y_true - y_pred\n",
    "    print(\"Error: \", error)\n",
    "    \n",
    "    #True if the absolute value of the error is less than our delta\n",
    "    cond = kb.abs(error) < HUBER_LOSS_DELTA\n",
    "    print(\"Condition: \", cond)\n",
    "    \n",
    "    L1 = HUBER_LOSS_DELTA * (kb.abs(error) - 0.5 * HUBER_LOSS_DELTA)\n",
    "    L2 = 0.5 * kb.square(error)\n",
    "    \n",
    "    #Calculate the loss\n",
    "    loss = tf.where(cond, L2, L1)\n",
    "    \n",
    "    return kb.mean(loss)"
   ]
  },
  {
   "cell_type": "markdown",
   "metadata": {},
   "source": [
    "## The agent's brain\n",
    "Here we create the brain of the agent. This part of the code will be our neural network, responsible for learning and playing the game"
   ]
  },
  {
   "cell_type": "code",
   "execution_count": null,
   "metadata": {
    "collapsed": true
   },
   "outputs": [],
   "source": []
  }
 ],
 "metadata": {
  "kernelspec": {
   "display_name": "Python 3",
   "language": "python",
   "name": "python3"
  },
  "language_info": {
   "codemirror_mode": {
    "name": "ipython",
    "version": 3
   },
   "file_extension": ".py",
   "mimetype": "text/x-python",
   "name": "python",
   "nbconvert_exporter": "python",
   "pygments_lexer": "ipython3",
   "version": "3.5.4"
  }
 },
 "nbformat": 4,
 "nbformat_minor": 2
}
